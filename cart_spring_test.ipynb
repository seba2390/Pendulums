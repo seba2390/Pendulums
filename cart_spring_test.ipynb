{
 "cells": [
  {
   "cell_type": "code",
   "execution_count": 1,
   "outputs": [],
   "source": [
    "import matplotlib.pyplot as plt\n",
    "import numpy as np\n",
    "\n",
    "from tools import plot_cart\n",
    "from Spring import Spring"
   ],
   "metadata": {
    "collapsed": false,
    "ExecuteTime": {
     "end_time": "2023-12-23T23:00:03.812810Z",
     "start_time": "2023-12-23T23:00:03.111088Z"
    }
   },
   "id": "88674858de78c7af"
  },
  {
   "cell_type": "code",
   "execution_count": 2,
   "id": "initial_id",
   "metadata": {
    "collapsed": true,
    "ExecuteTime": {
     "end_time": "2023-12-23T23:00:04.009216Z",
     "start_time": "2023-12-23T23:00:03.815615Z"
    }
   },
   "outputs": [
    {
     "data": {
      "text/plain": "<Figure size 500x500 with 1 Axes>",
      "image/png": "[encoded data removed]"
     },
     "metadata": {},
     "output_type": "display_data"
    }
   ],
   "source": [
    "fig, ax = plt.subplots(1,1,figsize=(5,5))\n",
    "\n",
    "x_center = 2\n",
    "cart_width = 0.75\n",
    "cart_height = 0.3\n",
    "wheel_radius = 0.1\n",
    "plot_cart(x_center=x_center, cart_width=cart_width, cart_height=cart_height, wheel_radius=wheel_radius, axis=ax)\n",
    "\n",
    "start_point = np.array([0,wheel_radius+cart_height/2])\n",
    "end_point = np.array([x_center-cart_width/2,wheel_radius+cart_height/2])\n",
    "spring = Spring(start=start_point, \n",
    "                end=end_point,\n",
    "                amplitude=cart_height/2)\n",
    "x, y = spring.get_points()\n",
    "ax.plot(x,y)\n",
    "ax.plot([start_point[0],end_point[0]], [start_point[1],end_point[1]],'ro',ms=3)\n",
    "\n",
    "\n",
    "ax.set_aspect('equal')\n",
    "ax.set_xlim(0,5)\n",
    "ax.set_ylim(-0.2,4.8)\n",
    "ax.hlines(0,0,5,lw=1.5,color='k')\n",
    "\n",
    "plt.show()"
   ]
  },
  {
   "cell_type": "code",
   "execution_count": null,
   "outputs": [],
   "source": [],
   "metadata": {
    "collapsed": false
   },
   "id": "cb6eb65b1cb68bf0"
  }
 ],
 "metadata": {
  "kernelspec": {
   "display_name": "Python 3",
   "language": "python",
   "name": "python3"
  },
  "language_info": {
   "codemirror_mode": {
    "name": "ipython",
    "version": 2
   },
   "file_extension": ".py",
   "mimetype": "text/x-python",
   "name": "python",
   "nbconvert_exporter": "python",
   "pygments_lexer": "ipython2",
   "version": "2.7.6"
  }
 },
 "nbformat": 4,
 "nbformat_minor": 5
}
