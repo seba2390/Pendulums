{
 "cells": [
  {
   "cell_type": "code",
   "execution_count": 2,
   "id": "initial_id",
   "metadata": {
    "collapsed": true,
    "ExecuteTime": {
     "end_time": "2023-12-23T23:10:19.627815Z",
     "start_time": "2023-12-23T23:10:19.624480Z"
    }
   },
   "outputs": [],
   "source": [
    "import matplotlib.pyplot as plt\n",
    "import numpy as np\n",
    "import sympy as sp\n",
    "import scipy as sc\n",
    "\n",
    "from tools import plot_cart\n",
    "from Spring import Spring"
   ]
  },
  {
   "cell_type": "markdown",
   "source": [
    "Consider the setup, defined as:\n",
    "<p align=\"center\">\n",
    "  <img src=\"pictures/2_carts_3_springs.png\" alt=\"2 carts 3 springs\" title=\"2 carts 3 springs\">\n",
    "</p>\n",
    "\n",
    "and recall that from Hookes law, the force from an ideal spring of spring constant $k$ on a mass, is:\n",
    "\\begin{equation}\n",
    "F(k,\\Delta x) \\equiv k \\Delta x\n",
    "\\end{equation}\n",
    "The force exerted by the first spring on mass $m_1$ is given as:\n",
    "\\begin{equation}\n",
    "F_{1\\to m_1} = -k_1 x_1\n",
    "\\end{equation}\n",
    "Here the term $x_1$ corresponds to the extension (or compression) of the spring from its equilibrium position. \n",
    "- If $x_1 > 0$, the spring is extended and exerts a force on $m_1$ towards the left. \n",
    "- If $x_1 < 0$, the spring is compressed and exerts a force on $m_1$ towards the right.\n",
    "\n",
    "The force exerted by the middle spring on mass $m_1$ is given as:\n",
    "\\begin{equation}\n",
    "F_{2\\to m_1} = -k_2(x_2 - x_1)\n",
    "\\end{equation}\n",
    "Here the term $(x_2 - x_1)$ is the difference in displacement between masses $m_2$ and $m_1$ from their respective equilibrium positions.\n",
    "- If $(x_2 - x_1) > 0$, the spring is extended and exerts a force on $m_1$ towards the left.\n",
    "- If $(x_2 - x_1) < 0$, the spring is compressed and exerts a force on $m_1$ towards the right.\n",
    "\n",
    "The force exerted by the middle spring on mass $m_2$ is given as:\n",
    "\\begin{equation}\n",
    "F_{2\\to m_2} = k_2(x_2 - x_1)\n",
    "\\end{equation}\n",
    "It has the same magnitude but opposite direction as the force on $m_1$ because the middle spring affects both masses equally and oppositely.\n",
    "\n",
    "The force exerted by the rightmost spring on mass $m_2$ is given as:\n",
    "\\begin{equation}\n",
    "F_{3\\to m_2} = -k_3 x_2\n",
    "\\end{equation}\n",
    "Here, the term $x_2$ represents the displacement of mass $m_2$ from its equilibrium position. \n",
    "- If $x_2 > 0$, the spring is extended and exerts a force on $m_2$ towards the left. \n",
    "- If $x_2 < 0$, the spring is compressed and exerts a force on $m_2$ towards the right.\n",
    "\n",
    "The total potential energy of the system, which is a function of the displacements from equilibrium, can be expressed as the negative integral of the sum of the forces exerted by the springs with respect to their respective deformations, because the force from the ideal springs are a conservative force. The potential energy $U$ for each spring is the negative integral of the force $F$ it exerts:\n",
    "\\begin{equation}\n",
    "U = -\\int F \\, d(\\Delta x)\n",
    "\\end{equation}\n",
    "Considering the forces from all the springs, the total potential energy $U_{total}$ is:\n",
    "\\begin{equation}\n",
    "U_{total} = -\\left( \\int F_{1\\to m_1} \\, dx_1 + \\int F_{2\\to m_1} \\, d(x_2 - x_1) + \\int F_{2\\to m_2} \\, d(x_2 - x_1) + \\int F_{3\\to m_2} \\, dx_2 \\right)\n",
    "\\end{equation}\n",
    "Integrating these forces gives us the potential energy for each spring:\n",
    "\\begin{equation}\n",
    "U_1 = \\frac{1}{2}k_1 x_1^2, \\quad\n",
    "U_2 = \\frac{1}{2}k_2 (x_2 - x_1)^2, \\quad\n",
    "U_3 = \\frac{1}{2}k_3 x_2^2\n",
    "\\end{equation}\n",
    "Finally, the total potential energy of the system is the sum of the potential energies of the individual springs:\n",
    "\\begin{equation}\n",
    "U_{total} = U_1 + U_2 + U_3 = \\frac{1}{2}k_1 x_1^2 + \\frac{1}{2}k_2 (x_2 - x_1)^2 + \\frac{1}{2}k_3 x_2^2\n",
    "\\end{equation}\n",
    "\n",
    "\n",
    "\n",
    "\n"
   ],
   "metadata": {
    "collapsed": false
   },
   "id": "78c2736352ee14ab"
  },
  {
   "cell_type": "code",
   "execution_count": null,
   "outputs": [],
   "source": [
    "# Define the symbols\n",
    "t = sp.symbols('t')  # time\n",
    "m1, m2, l1, l2, l3, k1, k2, k3 = sp.symbols('m1 m2 m3 l1 l2 l3 k1 k2 k3')       \n",
    "x1, x2  = sp.symbols('x1 x2', cls=sp.Function)     \n",
    "x1, x2 = x1(t), x2(t)\n",
    "vx1, vx2 = sp.diff(x1, t), sp.diff(x2, t)\n",
    "y1, y2 = 0, 0\n",
    "vy1, vy2 = sp.diff(y1,t), sp.diff(y2,t)\n",
    "\n",
    "\n",
    "T_1 = sp.Rational(1,2) * m1 * (vx1**2 + vy1**2)\n",
    "T_2 = sp.Rational(1,2) * m2 * (vx2**2 + vy2**2)\n",
    "T = T_1 + T_2 \n",
    "\n",
    "U_1 = sp.Rational(1,2) * k1 * (x1 - l1) ** 2\n",
    "U_2 = sp.Rational(1,2) * k2 * (x2 - x1 - l2) ** 2\n",
    "U_3 = sp.Rational(1,2) * k3 * (x3 - x2 - l3) ** 2\n",
    "U = U_1 + U_2 + U_3\n",
    "\n",
    "L = T-U\n"
   ],
   "metadata": {
    "collapsed": false
   },
   "id": "bdde9423229bc3cb"
  }
 ],
 "metadata": {
  "kernelspec": {
   "display_name": "Python 3",
   "language": "python",
   "name": "python3"
  },
  "language_info": {
   "codemirror_mode": {
    "name": "ipython",
    "version": 2
   },
   "file_extension": ".py",
   "mimetype": "text/x-python",
   "name": "python",
   "nbconvert_exporter": "python",
   "pygments_lexer": "ipython2",
   "version": "2.7.6"
  }
 },
 "nbformat": 4,
 "nbformat_minor": 5
}
