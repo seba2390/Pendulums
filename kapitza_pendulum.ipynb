{
 "cells": [
  {
   "cell_type": "code",
   "execution_count": 50,
   "id": "initial_id",
   "metadata": {
    "collapsed": true,
    "ExecuteTime": {
     "end_time": "2023-12-20T23:19:02.892218Z",
     "start_time": "2023-12-20T23:19:02.885318Z"
    }
   },
   "outputs": [],
   "source": [
    "import sympy as sp\n",
    "import numpy as np\n",
    "import scipy as sc\n",
    "import matplotlib.pyplot as plt\n",
    "\n",
    "from tools import downsample_data"
   ]
  },
  {
   "cell_type": "markdown",
   "source": [
    "Now we will consider the kapitza pendulum where the base of the pendulum oscillates vertically:\n",
    "\\begin{equation}\n",
    "y(t)=a\\cos{\\omega t}\n",
    "\\end{equation}\n",
    "\n",
    "such that the position of the pendulum in polar coordinates are given as:\n",
    "\\begin{equation}\n",
    "\\vec{r}=\\hat{x}l\\sin{\\phi}+\\hat{y}\\big(-l\\cos(\\phi)+a\\cos(\\omega t)\\big)\n",
    "\\end{equation}"
   ],
   "metadata": {
    "collapsed": false
   },
   "id": "db8045cba1eaca18"
  },
  {
   "cell_type": "code",
   "execution_count": 99,
   "outputs": [],
   "source": [
    "# Define the symbols\n",
    "t = sp.symbols('t')  # time\n",
    "m, l, g, a, omega = sp.symbols('m l g a omega')   \n",
    "phi = sp.symbols('phi', cls=sp.Function)  # angles as functions of time\n",
    "\n",
    "# Define the angle functions and their derivatives\n",
    "phi = phi(t)\n",
    "phi_dot = sp.diff(phi, t)\n",
    "\n",
    "x1, y1 = l*sp.sin(phi), -l*sp.cos(phi)+a*sp.cos(omega*t)\n",
    "\n",
    "vx1, vy1 = sp.diff(x1,t), sp.diff(y1,t)\n",
    "\n",
    "T = sp.Rational(1,2) * m * (vx1**2 + vy1**2)\n",
    "U = m*g*l*(1-sp.cos(phi))+m*g*a*sp.cos(omega*t)\n",
    "\n",
    "L = T-U"
   ],
   "metadata": {
    "collapsed": false,
    "ExecuteTime": {
     "end_time": "2023-12-20T23:32:19.031551Z",
     "start_time": "2023-12-20T23:32:19.029527Z"
    }
   },
   "id": "60275d35bf343623"
  },
  {
   "cell_type": "code",
   "execution_count": 100,
   "outputs": [],
   "source": [
    "# Apply the Euler-Lagrange equation\n",
    "EL1 = sp.diff(sp.diff(L, phi_dot), t) - sp.diff(L, phi)\n",
    "\n",
    "# Optionally, simplify the equations\n",
    "EL1_simplified = sp.Eq(sp.simplify(EL1),0)"
   ],
   "metadata": {
    "collapsed": false,
    "ExecuteTime": {
     "end_time": "2023-12-20T23:32:19.359265Z",
     "start_time": "2023-12-20T23:32:19.272429Z"
    }
   },
   "id": "398c028a299d0fbf"
  },
  {
   "cell_type": "code",
   "execution_count": 101,
   "outputs": [],
   "source": [
    "# Defining the second order time deriv variables\n",
    "phi_ddot= sp.diff(phi, t, t)\n",
    "# Solving the system of EL equations for the second order time derivatives\n",
    "# N.B. Solutions is a dict: variable -> equation\n",
    "solutions = sp.solve([EL1_simplified], phi_ddot)"
   ],
   "metadata": {
    "collapsed": false,
    "ExecuteTime": {
     "end_time": "2023-12-20T23:32:19.733936Z",
     "start_time": "2023-12-20T23:32:19.729813Z"
    }
   },
   "id": "9607130de3fecadf"
  },
  {
   "cell_type": "code",
   "execution_count": 102,
   "outputs": [],
   "source": [
    "# Turning the second order equations into vectorized numpy functions that can efficiently evaluate numerical values\n",
    "phi_ddot_lambdified = sp.lambdify([t, m, l, phi, phi_dot, a, omega, g], solutions[phi_ddot], 'numpy')\n",
    "\n",
    "# Wrapping in outer function to make more recognizable \n",
    "def d2_phi_dt2(t: float,\n",
    "               phi:float, \n",
    "               d_phi_dt: float, \n",
    "               length: float, \n",
    "               mass: float,\n",
    "               amplitude: float,\n",
    "               osc_frequency: float,\n",
    "               g: float):\n",
    "    return phi_ddot_lambdified(t, mass, length, phi, d_phi_dt, amplitude, osc_frequency, g)\n"
   ],
   "metadata": {
    "collapsed": false,
    "ExecuteTime": {
     "end_time": "2023-12-20T23:32:20.144130Z",
     "start_time": "2023-12-20T23:32:20.141744Z"
    }
   },
   "id": "4aaef340b709bbaa"
  },
  {
   "cell_type": "code",
   "execution_count": 264,
   "outputs": [
    {
     "name": "stdout",
     "output_type": "stream",
     "text": [
      "The solver successfully reached the end of the integration interval.\n"
     ]
    }
   ],
   "source": [
    "# Define the ODE function\n",
    "def kapitza_pendulum(t, y, l, m, a, w, g):\n",
    "    phi, d_phi_dt = y\n",
    "    d2_phi_dt2_value = d2_phi_dt2(t, phi, d_phi_dt, l, m, a, w, g)\n",
    "    return [d_phi_dt, d2_phi_dt2_value]\n",
    "\n",
    "# Initial conditions\n",
    "phi_init = 0.9*np.pi\n",
    "phi_dot_init = 0\n",
    "initial_conditions = [phi_init, phi_dot_init]  \n",
    "\n",
    "# Parameters\n",
    "l = 1\n",
    "m = 1\n",
    "amplitude = 0.075\n",
    "osc_frequency = 18\n",
    "g = 9.82\n",
    "params = (l, m, amplitude, osc_frequency, g)  \n",
    "\n",
    "# Time span for the simulation\n",
    "t_min, t_max = 0, 30\n",
    "n_times = int(t_max*2000)\n",
    "\n",
    "time_span = np.linspace(start=t_min, stop=t_max, num=n_times)\n",
    "\n",
    "# Solve the ODEs\n",
    "solution = sc.integrate.solve_ivp(fun=kapitza_pendulum,\n",
    "                        t_span=(t_min,t_max),\n",
    "                        y0=initial_conditions,\n",
    "                        method='Radau',\n",
    "                        args=params,\n",
    "                        t_eval=time_span)\n",
    "\n",
    "print(solution.message)"
   ],
   "metadata": {
    "collapsed": false,
    "ExecuteTime": {
     "end_time": "2023-12-21T00:06:06.817871Z",
     "start_time": "2023-12-21T00:06:06.712322Z"
    }
   },
   "id": "467c519e4878cb50"
  },
  {
   "cell_type": "code",
   "execution_count": 265,
   "outputs": [
    {
     "data": {
      "text/plain": "<matplotlib.collections.LineCollection at 0x16c3ddd50>"
     },
     "execution_count": 265,
     "metadata": {},
     "output_type": "execute_result"
    },
    {
     "data": {
      "text/plain": "<Figure size 1000x300 with 1 Axes>",
      "image/png": "[encoded data removed]"
     },
     "metadata": {},
     "output_type": "display_data"
    }
   ],
   "source": [
    "angles, angle_velocities = solution.y\n",
    "\n",
    "fig, ax = plt.subplots(1,1,figsize=(10,3))\n",
    "ax.plot(solution.t, angles)\n",
    "#ax.set_ylim(0.75*np.pi,1.25*np.pi)\n",
    "ax.hlines(np.pi,0,max(solution.t))\n",
    "#ax.plot(solution.t, angle_velocities)\n"
   ],
   "metadata": {
    "collapsed": false,
    "ExecuteTime": {
     "end_time": "2023-12-21T00:06:07.095992Z",
     "start_time": "2023-12-21T00:06:07.028284Z"
    }
   },
   "id": "db3300bab3f953dd"
  },
  {
   "cell_type": "code",
   "execution_count": 266,
   "outputs": [],
   "source": [
    "def get_energies(solver_result: sc.integrate._ivp.ivp.OdeResult,\n",
    "                 mass: float,\n",
    "                 length: float,\n",
    "                 gravity: float,\n",
    "                 amplitude: float,\n",
    "                 osc_frequency: float):\n",
    "    # Define the symbols\n",
    "    t = sp.symbols('t')  # time\n",
    "    m, l, g, a, omega = sp.symbols('m l g a omega')   \n",
    "    phi = sp.symbols('phi', cls=sp.Function)  # angles as functions of time\n",
    "    \n",
    "    # Define the angle functions and their derivatives\n",
    "    phi = phi(t)\n",
    "    phi_dot = sp.diff(phi, t)\n",
    "    \n",
    "    x1, y1 = l*sp.sin(phi), -(l*sp.cos(phi)+a*sp.cos(omega*t))\n",
    "    \n",
    "    vx1, vy1 = sp.diff(x1,t), sp.diff(y1,t)\n",
    "    \n",
    "    T = sp.Rational(1,2) * m * (vx1**2 + vy1**2)\n",
    "    U = m*g*(l*(1-sp.cos(phi))+a*sp.cos(omega*t))\n",
    "\n",
    "    # Lambdify the energy expressions\n",
    "    T_func = sp.lambdify([t,m,l,g,a,omega,phi,phi_dot], T, 'numpy')\n",
    "    U_func = sp.lambdify([t,m,l,g,a,omega,phi,phi_dot], U, 'numpy')\n",
    "\n",
    "    # Extract the solver's results\n",
    "    phi_values, phi_dot_values = solver_result.y\n",
    "    times = solver_result.t\n",
    "\n",
    "    # Calculate energies\n",
    "    kinetic_energies = T_func(times, mass, length, gravity, amplitude, osc_frequency, phi_values, phi_dot_values)\n",
    "    \n",
    "    potential_energies = U_func(times, mass, length, gravity, amplitude, osc_frequency, phi_values, phi_dot_values)\n",
    "\n",
    "    return kinetic_energies, potential_energies\n",
    "\n",
    "\n",
    "def get_cartesian_coordinates(solver_result: sc.integrate._ivp.ivp.OdeResult,\n",
    "                              length: float, \n",
    "                              amplitude: float,\n",
    "                              osc_frequency: float):\n",
    "    def angle_to_xy(angle: float, \n",
    "                    distance: float, \n",
    "                    amplitude: float,\n",
    "                    osc_frequency: float,\n",
    "                    time: float):\n",
    "        return np.array([distance * np.sin(angle), \n",
    "                         -distance * np.cos(angle)+amplitude*np.cos(osc_frequency*time)])\n",
    "\n",
    "        # Extract the solver's results\n",
    "\n",
    "    _phi_, _,  = solver_result.y\n",
    "\n",
    "    times = solver_result.t\n",
    "    pendulum = np.array([angle_to_xy(angle=angle, distance=length, amplitude=amplitude, osc_frequency=osc_frequency, time=t).tolist() for angle, t in zip(_phi_,times)])\n",
    "    base = np.array([[0,amplitude*np.cos(osc_frequency*t)] for t in times])\n",
    "\n",
    "    return pendulum, base, times"
   ],
   "metadata": {
    "collapsed": false,
    "ExecuteTime": {
     "end_time": "2023-12-21T00:06:12.583379Z",
     "start_time": "2023-12-21T00:06:12.577682Z"
    }
   },
   "id": "6fe119ab1a37f952"
  },
  {
   "cell_type": "code",
   "execution_count": 267,
   "outputs": [],
   "source": [
    "kinetic_energies, potential_energies = get_energies(solver_result=solution,\n",
    "                                                    mass=m,\n",
    "                                                    length=l,\n",
    "                                                    amplitude=amplitude,\n",
    "                                                    osc_frequency=osc_frequency,\n",
    "                                                    gravity=g)"
   ],
   "metadata": {
    "collapsed": false,
    "ExecuteTime": {
     "end_time": "2023-12-21T00:06:12.951787Z",
     "start_time": "2023-12-21T00:06:12.947237Z"
    }
   },
   "id": "2a0b11d5753e70a0"
  },
  {
   "cell_type": "code",
   "execution_count": 268,
   "outputs": [],
   "source": [
    "_pendulum_, _base_, _times_ = get_cartesian_coordinates(solver_result=solution,\n",
    "                                                        length=l,\n",
    "                                                        amplitude=amplitude,\n",
    "                                                        osc_frequency=osc_frequency)\n",
    "                                                        \n",
    "sample_rate = n_times//1000\n",
    "pendulum_vals, base_vals, time_vals = _pendulum_[::sample_rate], _base_[::sample_rate], _times_[::sample_rate]\n"
   ],
   "metadata": {
    "collapsed": false,
    "ExecuteTime": {
     "end_time": "2023-12-21T00:06:13.511172Z",
     "start_time": "2023-12-21T00:06:13.228647Z"
    }
   },
   "id": "96e7462789459987"
  },
  {
   "cell_type": "code",
   "execution_count": 269,
   "outputs": [],
   "source": [
    "\n",
    "\n",
    "from matplotlib.animation import FuncAnimation\n",
    "import matplotlib.animation as animation\n",
    "\n",
    "\n",
    "resolution = 300\n",
    "fig, ax = plt.subplots(figsize=(5, 5), dpi=resolution)\n",
    "\n",
    "\n",
    "# Initial plot elements\n",
    "line, = ax.plot([], [], lw=2)  # Line for the upper arm\n",
    "point, = ax.plot([], [], 'ro', ms=5)  # Point for the upper pendulum\n",
    "base, = ax.plot([], [], 'ko', ms=5)\n",
    "\n",
    "# Initialization function\n",
    "def init():\n",
    "    line.set_data([], [])\n",
    "    point.set_data([], [])\n",
    "    base.set_data([], [])\n",
    "    \n",
    "    return line, point, base\n",
    "\n",
    "# Animation update function\n",
    "def update(idx):\n",
    "    # base\n",
    "    base.set_data(base_vals[idx, 0], base_vals[idx, 1])\n",
    "    \n",
    "    # arm\n",
    "    line.set_data([base_vals[idx, 0], pendulum_vals[idx, 0]], [base_vals[idx, 1], pendulum_vals[idx, 1]])\n",
    "    point.set_data(pendulum_vals[idx, 0], pendulum_vals[idx, 1])\n",
    "\n",
    "    return line, point, base\n",
    "\n",
    "# Setting additional things\n",
    "ax.set_xlim(-1.2*l, 1.2*l)\n",
    "ax.set_ylim(-1.2*l, 1.2*l)\n",
    "ax.set_aspect('equal')\n",
    "ax.hlines(0, -1.2*l, 1.2*l, lw=3, color='k')\n",
    "\n",
    "# Remove axis ticks and labels\n",
    "ax.set_xticks([]), ax.set_yticks([])\n",
    "ax.set_xlabel(''), ax.set_ylabel('')\n",
    "\n",
    "\n",
    "# Create the animation\n",
    "ani = FuncAnimation(fig, update, frames=len(time_vals), init_func=init, blit=True, interval=1)\n",
    "\n",
    "# Set up the writer\n",
    "Writer = animation.writers['ffmpeg']\n",
    "writer = Writer(fps=100, metadata=dict(artist='Sebastian Yde'))\n",
    "\n",
    "# Save the animation\n",
    "ani.save('kapitza_pendulum_animation.mp4', writer=writer)\n",
    "\n",
    "plt.close(fig)"
   ],
   "metadata": {
    "collapsed": false,
    "ExecuteTime": {
     "end_time": "2023-12-21T00:06:20.978313Z",
     "start_time": "2023-12-21T00:06:13.525487Z"
    }
   },
   "id": "4f7a0f753857628b"
  },
  {
   "cell_type": "code",
   "execution_count": 147,
   "outputs": [],
   "source": [],
   "metadata": {
    "collapsed": false,
    "ExecuteTime": {
     "end_time": "2023-12-20T21:23:06.900418Z",
     "start_time": "2023-12-20T21:23:06.897504Z"
    }
   },
   "id": "f96bf120a77a0ac8"
  },
  {
   "cell_type": "code",
   "execution_count": null,
   "outputs": [],
   "source": [],
   "metadata": {
    "collapsed": false
   },
   "id": "ff4ff1aee20701af"
  }
 ],
 "metadata": {
  "kernelspec": {
   "display_name": "Python 3",
   "language": "python",
   "name": "python3"
  },
  "language_info": {
   "codemirror_mode": {
    "name": "ipython",
    "version": 2
   },
   "file_extension": ".py",
   "mimetype": "text/x-python",
   "name": "python",
   "nbconvert_exporter": "python",
   "pygments_lexer": "ipython2",
   "version": "2.7.6"
  }
 },
 "nbformat": 4,
 "nbformat_minor": 5
}
