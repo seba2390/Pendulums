{
 "cells": [
  {
   "cell_type": "code",
   "execution_count": 4,
   "id": "initial_id",
   "metadata": {
    "collapsed": true,
    "ExecuteTime": {
     "end_time": "2023-12-23T23:00:14.656130Z",
     "start_time": "2023-12-23T23:00:14.641736Z"
    }
   },
   "outputs": [],
   "source": [
    "import matplotlib.pyplot as plt\n",
    "\n",
    "from tools import plot_cart"
   ]
  },
  {
   "cell_type": "code",
   "execution_count": 5,
   "outputs": [
    {
     "data": {
      "text/plain": "<Figure size 500x500 with 1 Axes>",
      "image/png": "[encoded data removed]"
     },
     "metadata": {},
     "output_type": "display_data"
    }
   ],
   "source": [
    "fig, ax = plt.subplots(1,1,figsize=(5,5))\n",
    "\n",
    "x_center = 2\n",
    "cart_width = 0.75\n",
    "cart_height = 0.3\n",
    "wheel_radius = 0.1\n",
    "plot_cart(x_center=x_center, cart_width=cart_width, cart_height=cart_height, wheel_radius=wheel_radius, axis=ax)\n",
    "\n",
    "ax.set_aspect('equal')\n",
    "ax.set_xlim(0,5)\n",
    "ax.set_ylim(-0.2,4.8)\n",
    "ax.hlines(0,0,5,lw=1.5,color='k')\n",
    "\n",
    "plt.show()"
   ],
   "metadata": {
    "collapsed": false,
    "ExecuteTime": {
     "end_time": "2023-12-23T23:00:14.914627Z",
     "start_time": "2023-12-23T23:00:14.830477Z"
    }
   },
   "id": "f260d422d78dc231"
  },
  {
   "cell_type": "code",
   "execution_count": 2,
   "outputs": [],
   "source": [],
   "metadata": {
    "collapsed": false,
    "ExecuteTime": {
     "end_time": "2023-12-23T22:58:23.217703Z",
     "start_time": "2023-12-23T22:58:23.202847Z"
    }
   },
   "id": "6cd1a6a695c56e9e"
  }
 ],
 "metadata": {
  "kernelspec": {
   "display_name": "Python 3",
   "language": "python",
   "name": "python3"
  },
  "language_info": {
   "codemirror_mode": {
    "name": "ipython",
    "version": 2
   },
   "file_extension": ".py",
   "mimetype": "text/x-python",
   "name": "python",
   "nbconvert_exporter": "python",
   "pygments_lexer": "ipython2",
   "version": "2.7.6"
  }
 },
 "nbformat": 4,
 "nbformat_minor": 5
}
