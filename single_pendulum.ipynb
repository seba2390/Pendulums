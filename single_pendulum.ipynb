{
 "cells": [
  {
   "cell_type": "code",
   "execution_count": 95,
   "id": "initial_id",
   "metadata": {
    "collapsed": true,
    "ExecuteTime": {
     "end_time": "2023-12-20T18:23:20.718088Z",
     "start_time": "2023-12-20T18:23:20.708210Z"
    }
   },
   "outputs": [],
   "source": [
    "import sympy as sp\n",
    "import numpy as np\n",
    "import scipy as sc\n",
    "import matplotlib.pyplot as plt\n"
   ]
  },
  {
   "cell_type": "code",
   "execution_count": 96,
   "outputs": [],
   "source": [
    "def get_energies(solver_result: sc.integrate._ivp.ivp.OdeResult,\n",
    "                 mass: float,\n",
    "                 length: float,\n",
    "                 gravity: float):\n",
    "    t = sp.symbols('t')  # time\n",
    "    m, l, g = sp.symbols('m l g')        # masses, lengths, gravitational acceleration\n",
    "    phi = sp.symbols('phi', cls=sp.Function)  # angles as functions of time\n",
    "    \n",
    "    # Define the angle functions and their derivatives\n",
    "    phi = phi(t)\n",
    "    phi_dot = sp.diff(phi, t)\n",
    "    \n",
    "    # Define the Lagrangian\n",
    "    U = -m * g * l * (1 - sp.cos(phi))\n",
    "    T = sp.Rational(1, 2) * m * (l * phi_dot)**2\n",
    "    # Lambdify the energy expressions\n",
    "    T_func = sp.lambdify([l, m, phi_dot], T, 'numpy')\n",
    "    U_func = sp.lambdify([l, m, g, phi],U, 'numpy')\n",
    "\n",
    "    # Extract the solver's results\n",
    "    phi_values, phi_dot_values = solver_result.y\n",
    "\n",
    "    # Calculate energies\n",
    "    kinetic_energies = T_func(length, mass, phi_dot_values)\n",
    "    potential_energies = U_func(length, mass, gravity, phi_values)\n",
    "    return kinetic_energies, potential_energies"
   ],
   "metadata": {
    "collapsed": false,
    "ExecuteTime": {
     "end_time": "2023-12-20T18:23:21.432539Z",
     "start_time": "2023-12-20T18:23:21.427689Z"
    }
   },
   "id": "86a8279d9b78f656"
  },
  {
   "cell_type": "code",
   "execution_count": 97,
   "outputs": [],
   "source": [
    "# Define the symbols\n",
    "t = sp.symbols('t')  # time\n",
    "m, l, g = sp.symbols('m l g')        # masses, lengths, gravitational acceleration\n",
    "phi = sp.symbols('phi', cls=sp.Function)  # angles as functions of time\n",
    "\n",
    "# Define the angle functions and their derivatives\n",
    "phi = phi(t)\n",
    "phi_dot = sp.diff(phi, t)\n",
    "\n",
    "# Define the Lagrangian\n",
    "U = m * g * l * (1 - sp.cos(phi))\n",
    "T = sp.Rational(1, 2) * m * (l * phi_dot)**2\n",
    "L = T-U\n"
   ],
   "metadata": {
    "collapsed": false,
    "ExecuteTime": {
     "end_time": "2023-12-20T18:23:23.073330Z",
     "start_time": "2023-12-20T18:23:23.069297Z"
    }
   },
   "id": "9020660ed108de08"
  },
  {
   "cell_type": "code",
   "execution_count": 98,
   "outputs": [],
   "source": [
    "# Apply the Euler-Lagrange equation\n",
    "EL = sp.diff(sp.diff(L, phi_dot), t) - sp.diff(L, phi)\n",
    "\n",
    "# Optionally, simplify the equations\n",
    "EL_simplified = sp.Eq(sp.simplify(EL),0)\n",
    "\n"
   ],
   "metadata": {
    "collapsed": false,
    "ExecuteTime": {
     "end_time": "2023-12-20T18:23:25.508194Z",
     "start_time": "2023-12-20T18:23:25.506480Z"
    }
   },
   "id": "e361c4b12486c446"
  },
  {
   "cell_type": "code",
   "execution_count": 99,
   "outputs": [
    {
     "data": {
      "text/plain": "Eq(l*m*(g*sin(phi(t)) + l*Derivative(phi(t), (t, 2))), 0)",
      "text/latex": "$\\displaystyle l m \\left(g \\sin{\\left(\\phi{\\left(t \\right)} \\right)} + l \\frac{d^{2}}{d t^{2}} \\phi{\\left(t \\right)}\\right) = 0$"
     },
     "execution_count": 99,
     "metadata": {},
     "output_type": "execute_result"
    }
   ],
   "source": [
    "EL_simplified"
   ],
   "metadata": {
    "collapsed": false,
    "ExecuteTime": {
     "end_time": "2023-12-20T18:23:25.830658Z",
     "start_time": "2023-12-20T18:23:25.823122Z"
    }
   },
   "id": "eeedada1641bd440"
  },
  {
   "cell_type": "code",
   "execution_count": 100,
   "outputs": [],
   "source": [
    "# Defining the second order time deriv variables\n",
    "phi_ddot = sp.diff(phi, t, t)\n",
    "# Solving the system of EL equations for the second order time derivatives\n",
    "# N.B. Solutions is a dict: variable -> equation\n",
    "solutions = sp.solve([EL_simplified], [phi_ddot]) \n"
   ],
   "metadata": {
    "collapsed": false,
    "ExecuteTime": {
     "end_time": "2023-12-20T18:23:26.829643Z",
     "start_time": "2023-12-20T18:23:26.828172Z"
    }
   },
   "id": "e9855ca0695927f2"
  },
  {
   "cell_type": "code",
   "execution_count": 101,
   "outputs": [],
   "source": [
    "# Turning the second order equations into vectorized numpy functions that can efficiently evaluate numerical values\n",
    "phi1_ddot_lambdified = sp.lambdify([l, g, phi], solutions[phi_ddot], 'numpy')\n",
    "\n",
    "# Wrapping in outer function to make more recognizable \n",
    "def d2_phi_dt2(phi:float, \n",
    "               length: float,\n",
    "               g: float):\n",
    "    return phi1_ddot_lambdified(length, g, phi)\n"
   ],
   "metadata": {
    "collapsed": false,
    "ExecuteTime": {
     "end_time": "2023-12-20T18:23:28.325565Z",
     "start_time": "2023-12-20T18:23:28.321246Z"
    }
   },
   "id": "6bb8df4c99f8d216"
  },
  {
   "cell_type": "code",
   "execution_count": 103,
   "outputs": [],
   "source": [
    "# Define the ODE function\n",
    "def single_pendulum(t, y, l, g):\n",
    "    phi, d_phi_dt = y\n",
    "    d2_phi_dt2_value = d2_phi_dt2(phi=phi,length=l, g=g)\n",
    "\n",
    "    return [d_phi_dt, d2_phi_dt2_value]\n",
    "\n",
    "# Initial conditions: [phi_init, d_phi_dt_init]\n",
    "phi_init = np.pi/3\n",
    "initial_conditions = [phi_init, 0]  \n",
    "\n",
    "# Parameters\n",
    "l, g, m = 1, 1, 1\n",
    "params = (l, g)  \n",
    "\n",
    "# Time span for the simulation\n",
    "n_times = 1000\n",
    "t_min, t_max = 0, 5\n",
    "time_span = np.linspace(start=t_min, stop=t_max, num=n_times)\n",
    "\n",
    "# Solve the ODEs\n",
    "solution = sc.integrate.solve_ivp(fun=single_pendulum,\n",
    "                        t_span=(t_min,t_max),\n",
    "                        y0=initial_conditions,\n",
    "                        method='Radau', # Seems to yield lowest nymerical error\n",
    "                        args=params,\n",
    "                        t_eval=time_span)\n",
    "\n",
    "\n",
    "def get_energies(solver_result: sc.integrate._ivp.ivp.OdeResult,\n",
    "                 mass: float,\n",
    "                 length: float,\n",
    "                 gravity: float):\n",
    "    t = sp.symbols('t')  # time\n",
    "    m, l, g = sp.symbols('m l g')        # masses, lengths, gravitational acceleration\n",
    "    phi = sp.symbols('phi', cls=sp.Function)  # angles as functions of time\n",
    "    \n",
    "    # Define the angle functions and their derivatives\n",
    "    phi = phi(t)\n",
    "    phi_dot = sp.diff(phi, t)\n",
    "    \n",
    "    # Define the Lagrangian\n",
    "    U = m * g * l * (1 - sp.cos(phi))\n",
    "    T = sp.Rational(1, 2) * m * (l * phi_dot)**2\n",
    "    # Lambdify the energy expressions\n",
    "    T_func = sp.lambdify([l, m, phi_dot], T, 'numpy')\n",
    "    U_func = sp.lambdify([l, m, g, phi],U, 'numpy')\n",
    "\n",
    "    # Extract the solver's results\n",
    "    phi_values, phi_dot_values = solver_result.y\n",
    "\n",
    "    # Calculate energies\n",
    "    kinetic_energies = T_func(length, mass, phi_dot_values)\n",
    "    potential_energies = U_func(length, mass, gravity, phi_values)\n",
    "    return kinetic_energies, potential_energies\n",
    "\n",
    "kinetic_energies, potential_energies = get_energies(solver_result = solution,\n",
    "                                                    mass = m,\n",
    "                                                    length = l, \n",
    "                                                    gravity = g)"
   ],
   "metadata": {
    "collapsed": false,
    "ExecuteTime": {
     "end_time": "2023-12-20T18:23:34.530406Z",
     "start_time": "2023-12-20T18:23:34.519077Z"
    }
   },
   "id": "b13aa0cc2120a599"
  },
  {
   "cell_type": "code",
   "execution_count": 104,
   "outputs": [
    {
     "data": {
      "text/plain": "(0.4999999999999999, 0.49997248455397164)"
     },
     "execution_count": 104,
     "metadata": {},
     "output_type": "execute_result"
    }
   ],
   "source": [
    "(kinetic_energies+potential_energies)[0], (kinetic_energies+potential_energies)[-1]"
   ],
   "metadata": {
    "collapsed": false,
    "ExecuteTime": {
     "end_time": "2023-12-20T18:23:35.003085Z",
     "start_time": "2023-12-20T18:23:34.997973Z"
    }
   },
   "id": "fb66a8669efca79d"
  }
 ],
 "metadata": {
  "kernelspec": {
   "display_name": "Python 3",
   "language": "python",
   "name": "python3"
  },
  "language_info": {
   "codemirror_mode": {
    "name": "ipython",
    "version": 2
   },
   "file_extension": ".py",
   "mimetype": "text/x-python",
   "name": "python",
   "nbconvert_exporter": "python",
   "pygments_lexer": "ipython2",
   "version": "2.7.6"
  }
 },
 "nbformat": 4,
 "nbformat_minor": 5
}
