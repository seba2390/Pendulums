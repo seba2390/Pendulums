{
 "cells": [
  {
   "cell_type": "code",
   "execution_count": 17,
   "id": "initial_id",
   "metadata": {
    "collapsed": true,
    "ExecuteTime": {
     "end_time": "2023-12-20T19:16:03.174552Z",
     "start_time": "2023-12-20T19:16:03.146441Z"
    }
   },
   "outputs": [],
   "source": [
    "import sympy as sp\n",
    "import numpy as np\n",
    "import scipy as sc\n",
    "import matplotlib.pyplot as plt\n",
    "\n",
    "from tools import downsample_data"
   ]
  },
  {
   "cell_type": "markdown",
   "source": [
    "Now we will consider the triple pendulum. Taking the setup in 'double_pendulum.ipynb', as a reference, it is natural to observe that:\n",
    "\\begin{align}\n",
    "U_1&=m_1gh_1=m_1gl_1(1-\\cos(\\phi_1)) \\\\\n",
    "U_2&=m_2g(h_1+h_2)=m_2g\\Big[l_1(1-\\cos(\\phi_1))+l_2(1-\\cos(\\phi_2))\\Big] \\\\\n",
    "U_3&=m_3g(h_1+h_2+h_3)=m_3g\\Big[l_1(1-\\cos(\\phi_1))+l_2(1-\\cos(\\phi_2))+l_3(1-\\cos(\\phi_3))\\Big]\n",
    "\\end{align}\n",
    "with $U=U_1+U_2+U_3$. However instead of taking the approach as in 'double_pendulum.ipynb' for determining the velocities of the particles, we will instead utilize the standard coordinate transformation between cartesian and polar coordinates in 2D:\n",
    "\\begin{equation}\n",
    "\\hat{r}=\\hat{x}\\cos{\\phi}+\\hat{y}\\sin(\\phi)\n",
    "\\end{equation}\n",
    "and define the coordinates of the three masses as:\n",
    "\\begin{equation}\n",
    "\\vec{r}_1&=\\hat{x}l_1\\sin(\\phi_1)-\\hat{y}l_1\\cos(\\phi_1) \\\\\n",
    "\\vec{r}_2&=\\hat{x}\\big(l_1\\sin(\\phi_1)+l_2\\sin(\\phi_2)\\big)-\\hat{y}\\big(l_1\\cos(\\phi_1)+l_2\\cos(\\phi_2)\\big) \\\\\n",
    "\\vec{r}_3&=\\hat{x}\\big(l_1\\sin(\\phi_1)+l_2\\sin(\\phi_2)+l_3\\sin(\\phi_3)\\big)-\\hat{y}\\big(l_1\\cos(\\phi_1)+l_2\\cos(\\phi_2)+l_3\\cos(\\phi_3)\\big)\n",
    "\\end{equation}\n"
   ],
   "metadata": {
    "collapsed": false
   },
   "id": "2ed93880ac82c639"
  },
  {
   "cell_type": "code",
   "execution_count": 28,
   "outputs": [],
   "source": [
    "# Define the symbols\n",
    "t = sp.symbols('t')  # time\n",
    "m1, m2, m3, l1, l2, l3, g = sp.symbols('m1 m2 m3 l1 l2 l3 g')        # masses, lengths, gravitational acceleration\n",
    "phi1, phi2, phi3 = sp.symbols('phi1 phi2 phi3', cls=sp.Function)     # angles as functions of time\n",
    "\n",
    "# Define the angle functions and their derivatives\n",
    "phi1, phi2, phi3 = phi1(t), phi2(t), phi3(t)\n",
    "phi1_dot, phi2_dot, phi3_dot = sp.diff(phi1, t), sp.diff(phi2, t), sp.diff(phi3, t)\n",
    "\n",
    "x1, y1 = l1*sp.sin(phi1)                                , -l1*sp.cos(phi1)\n",
    "x2, y2 = l1*sp.sin(phi1)+l2*sp.sin(phi2)                , -l1*sp.cos(phi1)-l2*sp.cos(phi2)\n",
    "x3, y3 = l1*sp.sin(phi1)+l2*sp.sin(phi2)+l3*sp.sin(phi3), -l1*sp.cos(phi1)-l2*sp.cos(phi2)-l3*sp.cos(phi3)\n",
    "\n",
    "vx1, vy1 = sp.diff(x1,t), sp.diff(y1,t)\n",
    "vx2, vy2 = sp.diff(x2,t), sp.diff(y2,t)\n",
    "vx3, vy3 = sp.diff(x3,t), sp.diff(y3,t)\n",
    "\n",
    "T_1 = sp.Rational(1,2) * m1 * (vx1**2 + vy1**2)\n",
    "T_2 = sp.Rational(1,2) * m2 * (vx2**2 + vy2**2)\n",
    "T_3 = sp.Rational(1,2) * m2 * (vx3**2 + vy3**2)\n",
    "T = T_1 + T_2 + T_3\n",
    "\n",
    "U_1 = m1*g*l1*(1-sp.cos(phi1))\n",
    "U_2 = m2*g*(l1*(1-sp.cos(phi1))+l2*(1-sp.cos(phi2)))\n",
    "U_3 = m3*g*(l1*(1-sp.cos(phi1))+l2*(1-sp.cos(phi2))+l3*(1-sp.cos(phi3)))\n",
    "U = U_1 + U_2 + U_3\n",
    "\n",
    "L = T-U\n"
   ],
   "metadata": {
    "collapsed": false,
    "ExecuteTime": {
     "end_time": "2023-12-20T19:18:23.062688Z",
     "start_time": "2023-12-20T19:18:23.060031Z"
    }
   },
   "id": "90c61754549d106f"
  },
  {
   "cell_type": "code",
   "execution_count": 30,
   "outputs": [],
   "source": [
    "# Apply the Euler-Lagrange equation\n",
    "EL1 = sp.diff(sp.diff(L, phi1_dot), t) - sp.diff(L, phi1)\n",
    "EL2 = sp.diff(sp.diff(L, phi2_dot), t) - sp.diff(L, phi2)\n",
    "EL3 = sp.diff(sp.diff(L, phi3_dot), t) - sp.diff(L, phi3)\n",
    "\n",
    "# Optionally, simplify the equations\n",
    "EL1_simplified = sp.Eq(sp.simplify(EL1),0)\n",
    "EL2_simplified = sp.Eq(sp.simplify(EL2),0)\n",
    "EL3_simplified = sp.Eq(sp.simplify(EL3),0)"
   ],
   "metadata": {
    "collapsed": false,
    "ExecuteTime": {
     "end_time": "2023-12-20T19:18:33.748571Z",
     "start_time": "2023-12-20T19:18:28.406129Z"
    }
   },
   "id": "4e14f9f28b10ebde"
  },
  {
   "cell_type": "code",
   "execution_count": 32,
   "outputs": [],
   "source": [
    "# Defining the second order time deriv variables\n",
    "phi1_ddot, phi2_ddot, phi3_ddot = sp.diff(phi1, t, t), sp.diff(phi2, t, t), sp.diff(phi3, t, t)\n",
    "# Solving the system of EL equations for the second order time derivatives\n",
    "# N.B. Solutions is a dict: variable -> equation\n",
    "solutions = sp.solve([EL1_simplified, EL2_simplified, EL3_simplified], (phi1_ddot, phi2_ddot, phi3_ddot))"
   ],
   "metadata": {
    "collapsed": false,
    "ExecuteTime": {
     "end_time": "2023-12-20T19:18:55.199630Z",
     "start_time": "2023-12-20T19:18:40.108309Z"
    }
   },
   "id": "fdbd95d78cb71a84"
  },
  {
   "cell_type": "code",
   "execution_count": 33,
   "outputs": [],
   "source": [
    "# Turning the second order equations into vectorized numpy functions that can efficiently evaluate numerical values\n",
    "phi1_ddot_lambdified = sp.lambdify([m1, m2, m3, \n",
    "                                    l1, l2, l3, \n",
    "                                    phi1, phi2, phi3, \n",
    "                                    phi1_dot, phi2_dot, phi3_dot,\n",
    "                                    g], solutions[phi1_ddot], 'numpy')\n",
    "phi2_ddot_lambdified = sp.lambdify([m1, m2, m3, \n",
    "                                    l1, l2, l3, \n",
    "                                    phi1, phi2, phi3, \n",
    "                                    phi1_dot, phi2_dot, phi3_dot,\n",
    "                                    g], solutions[phi2_ddot], 'numpy')\n",
    "phi3_ddot_lambdified = sp.lambdify([m1, m2, m3, \n",
    "                                    l1, l2, l3, \n",
    "                                    phi1, phi2, phi3, \n",
    "                                    phi1_dot, phi2_dot, phi3_dot,\n",
    "                                    g], solutions[phi3_ddot], 'numpy')\n",
    "\n",
    "# Wrapping in outer function to make more recognizable \n",
    "def d2_phi_1_dt2(phi_1:float, d_phi_1_dt: float, \n",
    "                 phi_2:float, d_phi_2_dt: float,\n",
    "                 phi_3:float, d_phi_3_dt: float,\n",
    "                 length_1: float, length_2: float, length_3: float, \n",
    "                 mass_1: float, mass_2: float, mass_3: float, \n",
    "                 g: float):\n",
    "    return phi1_ddot_lambdified(mass_1, mass_2, mass_3, \n",
    "                                length_1, length_2, length_3,\n",
    "                                phi_1, phi_2, phi_3,\n",
    "                                d_phi_1_dt, d_phi_2_dt, d_phi_3_dt,\n",
    "                                g)\n",
    "\n",
    "def d2_phi_2_dt2(phi_1:float, d_phi_1_dt: float, \n",
    "                 phi_2:float, d_phi_2_dt: float,\n",
    "                 phi_3:float, d_phi_3_dt: float,\n",
    "                 length_1: float, length_2: float, length_3: float, \n",
    "                 mass_1: float, mass_2: float, mass_3: float, \n",
    "                 g: float):\n",
    "    return phi2_ddot_lambdified(mass_1, mass_2, mass_3, \n",
    "                                length_1, length_2, length_3,\n",
    "                                phi_1, phi_2, phi_3,\n",
    "                                d_phi_1_dt, d_phi_2_dt, d_phi_3_dt,\n",
    "                                g)\n",
    "\n",
    "def d2_phi_3_dt2(phi_1:float, d_phi_1_dt: float, \n",
    "                 phi_2:float, d_phi_2_dt: float,\n",
    "                 phi_3:float, d_phi_3_dt: float,\n",
    "                 length_1: float, length_2: float, length_3: float, \n",
    "                 mass_1: float, mass_2: float, mass_3: float, \n",
    "                 g: float):\n",
    "    return phi3_ddot_lambdified(mass_1, mass_2, mass_3, \n",
    "                                length_1, length_2, length_3,\n",
    "                                phi_1, phi_2, phi_3,\n",
    "                                d_phi_1_dt, d_phi_2_dt, d_phi_3_dt,\n",
    "                                g)"
   ],
   "metadata": {
    "collapsed": false,
    "ExecuteTime": {
     "end_time": "2023-12-20T19:19:02.280896Z",
     "start_time": "2023-12-20T19:19:02.143105Z"
    }
   },
   "id": "cfbce9886832ff62"
  },
  {
   "cell_type": "code",
   "execution_count": 63,
   "outputs": [
    {
     "name": "stdout",
     "output_type": "stream",
     "text": [
      "The solver successfully reached the end of the integration interval.\n"
     ]
    }
   ],
   "source": [
    "# Define the ODE function\n",
    "def double_pendulum(t, y, l1, l2, l3, m1, m2, m3, g):\n",
    "    phi_1, d_phi_1_dt, phi_2, d_phi_2_dt, phi_3, d_phi_3_dt = y\n",
    "    d2_phi_1_dt2_value = d2_phi_1_dt2(phi_1=phi_1, d_phi_1_dt=d_phi_1_dt,\n",
    "                                      phi_2=phi_2, d_phi_2_dt=d_phi_2_dt,\n",
    "                                      phi_3=phi_3, d_phi_3_dt=d_phi_3_dt,\n",
    "                                      length_1=l1, length_2=l2, length_3=l3,\n",
    "                                      mass_1=m1, mass_2=m2, mass_3=m3, g=g)\n",
    "    \n",
    "    d2_phi_2_dt2_value = d2_phi_2_dt2(phi_1=phi_1, d_phi_1_dt=d_phi_1_dt,\n",
    "                                      phi_2=phi_2, d_phi_2_dt=d_phi_2_dt,\n",
    "                                      phi_3=phi_3, d_phi_3_dt=d_phi_3_dt,\n",
    "                                      length_1=l1, length_2=l2, length_3=l3,\n",
    "                                      mass_1=m1, mass_2=m2, mass_3=m3, g=g)\n",
    "    \n",
    "    d2_phi_3_dt2_value = d2_phi_3_dt2(phi_1=phi_1, d_phi_1_dt=d_phi_1_dt,\n",
    "                                      phi_2=phi_2, d_phi_2_dt=d_phi_2_dt,\n",
    "                                      phi_3=phi_3, d_phi_3_dt=d_phi_3_dt,\n",
    "                                      length_1=l1, length_2=l2, length_3=l3,\n",
    "                                      mass_1=m1, mass_2=m2, mass_3=m3, g=g)\n",
    "    \n",
    "    return [d_phi_1_dt, d2_phi_1_dt2_value, \n",
    "            d_phi_2_dt, d2_phi_2_dt2_value, \n",
    "            d_phi_3_dt, d2_phi_3_dt2_value]\n",
    "\n",
    "# Initial conditions\n",
    "phi_1_init, phi_2_init, phi_3_init = np.pi/4, np.pi/3, np.pi\n",
    "phi_1_dot_init, phi_2_dot_init, phi_3_dot_init = 0, 0, 0\n",
    "initial_conditions = [phi_1_init, phi_1_dot_init,\n",
    "                      phi_2_init, phi_2_dot_init,\n",
    "                      phi_3_init, phi_3_dot_init]  \n",
    "\n",
    "# Parameters\n",
    "l1, l2, l3 = 1, 1, 1\n",
    "m1, m2, m3 = 1, 1, 1\n",
    "g = 9.82\n",
    "params = (l1, l2, l3, m1, m2, m3, g)  \n",
    "\n",
    "# Time span for the simulation\n",
    "t_min, t_max = 0, 20\n",
    "n_times = int(t_max*2000)\n",
    "\n",
    "time_span = np.linspace(start=t_min, stop=t_max, num=n_times)\n",
    "\n",
    "# Solve the ODEs\n",
    "solution = sc.integrate.solve_ivp(fun=double_pendulum,\n",
    "                        t_span=(t_min,t_max),\n",
    "                        y0=initial_conditions,\n",
    "                        method='Radau',\n",
    "                        args=params,\n",
    "                        t_eval=time_span)\n",
    "\n",
    "print(solution.message)"
   ],
   "metadata": {
    "collapsed": false,
    "ExecuteTime": {
     "end_time": "2023-12-20T19:41:43.577601Z",
     "start_time": "2023-12-20T19:41:41.054458Z"
    }
   },
   "id": "87f6463da1ac690f"
  },
  {
   "cell_type": "code",
   "execution_count": 64,
   "outputs": [],
   "source": [
    "def get_energies(solver_result: sc.integrate._ivp.ivp.OdeResult,\n",
    "                 mass1: float, mass2: float, mass3: float,\n",
    "                 length1: float, length2: float, length3: float,\n",
    "                 gravity: float):\n",
    "    # Define the symbols\n",
    "    t = sp.symbols('t')  # time\n",
    "    m1, m2, m3, l1, l2, l3, g = sp.symbols('m1 m2 m3 l1 l2 l3 g')        # masses, lengths, gravitational acceleration\n",
    "    phi1, phi2, phi3 = sp.symbols('phi1 phi2 phi3', cls=sp.Function)     # angles as functions of time\n",
    "    \n",
    "    # Define the angle functions and their derivatives\n",
    "    phi1, phi2, phi3 = phi1(t), phi2(t), phi3(t)\n",
    "    phi1_dot, phi2_dot, phi3_dot = sp.diff(phi1, t), sp.diff(phi2, t), sp.diff(phi3, t)\n",
    "    \n",
    "    x1, y1 = l1*sp.sin(phi1)                                , -l1*sp.cos(phi1)\n",
    "    x2, y2 = l1*sp.sin(phi1)+l2*sp.sin(phi2)                , -l1*sp.cos(phi1)-l2*sp.cos(phi2)\n",
    "    x3, y3 = l1*sp.sin(phi1)+l2*sp.sin(phi2)+l3*sp.sin(phi3), -l1*sp.cos(phi1)-l2*sp.cos(phi2)-l3*sp.cos(phi3)\n",
    "    \n",
    "    vx1, vy1 = sp.diff(x1,t), sp.diff(y1,t)\n",
    "    vx2, vy2 = sp.diff(x2,t), sp.diff(y2,t)\n",
    "    vx3, vy3 = sp.diff(x3,t), sp.diff(y3,t)\n",
    "    \n",
    "    T_1 = sp.Rational(1,2) * m1 * (vx1**2 + vy1**2)\n",
    "    T_2 = sp.Rational(1,2) * m2 * (vx2**2 + vy2**2)\n",
    "    T_3 = sp.Rational(1,2) * m2 * (vx3**2 + vy3**2)\n",
    "    T = T_1 + T_2 + T_3\n",
    "    \n",
    "    U_1 = m1*g*l1*(1-sp.cos(phi1))\n",
    "    U_2 = m2*g*(l1*(1-sp.cos(phi1))+l2*(1-sp.cos(phi2)))\n",
    "    U_3 = m3*g*(l1*(1-sp.cos(phi1))+l2*(1-sp.cos(phi2))+l3*(1-sp.cos(phi3)))\n",
    "    U = U_1 + U_2 + U_3\n",
    "\n",
    "    # Lambdify the energy expressions\n",
    "    T_func = sp.lambdify([m1, m2, m3,\n",
    "                          l1, l2, l3,\n",
    "                          phi1, phi2, phi3,\n",
    "                          phi1_dot, phi2_dot, phi3_dot, g], T, 'numpy')\n",
    "    \n",
    "    U_func = sp.lambdify([m1, m2, m3,\n",
    "                          l1, l2, l3,\n",
    "                          phi1, phi2, phi3,\n",
    "                          phi1_dot, phi2_dot, phi3_dot, g], U, 'numpy')\n",
    "\n",
    "    # Extract the solver's results\n",
    "    phi_1_values, phi_1_dot_values, phi_2_values, phi_2_dot_values, phi_3_values, phi_3_dot_values = solver_result.y\n",
    "\n",
    "    # Calculate energies\n",
    "    kinetic_energies = T_func(mass1, mass2, mass3,\n",
    "                              length1, length2, length3,\n",
    "                              phi_1_values, phi_2_values, phi_3_values,\n",
    "                              phi_1_dot_values, phi_2_dot_values, phi_3_dot_values, gravity)\n",
    "    \n",
    "    potential_energies = U_func(mass1, mass2, mass3,\n",
    "                              length1, length2, length3,\n",
    "                              phi_1_values, phi_2_values, phi_3_values,\n",
    "                              phi_1_dot_values, phi_2_dot_values, phi_3_dot_values, gravity)\n",
    "\n",
    "    return kinetic_energies, potential_energies\n",
    "\n",
    "\n",
    "def get_cartesian_coordinates(solver_result: sc.integrate._ivp.ivp.OdeResult,\n",
    "                              length_1: float,\n",
    "                              length_2: float,\n",
    "                              length_3: float):\n",
    "    def angle_to_xy(angle: float, distance: float):\n",
    "        return np.array([distance * np.sin(angle), -distance * np.cos(angle)])\n",
    "\n",
    "        # Extract the solver's results\n",
    "\n",
    "    phi_upper, _, phi_middle, __, phi_lower, ___ = solver_result.y\n",
    "\n",
    "    times = solver_result.t\n",
    "    upper_pendulum = np.array([angle_to_xy(angle=phi, distance=length_1).tolist() for phi in phi_upper])\n",
    "    middle_pendulum = np.array(\n",
    "        [(angle_to_xy(angle=phi_middle[i], distance=length_2) + upper_pendulum[i]).tolist() for i in\n",
    "         range(len(phi_middle))])\n",
    "    lower_pendulum = np.array(\n",
    "        [(angle_to_xy(angle=phi_lower[i], distance=length_3) + middle_pendulum[i]).tolist() for i in\n",
    "         range(len(phi_lower))])\n",
    "\n",
    "    return upper_pendulum, middle_pendulum, lower_pendulum, times"
   ],
   "metadata": {
    "collapsed": false,
    "ExecuteTime": {
     "end_time": "2023-12-20T19:41:43.643647Z",
     "start_time": "2023-12-20T19:41:43.635415Z"
    }
   },
   "id": "a352db1f3895c366"
  },
  {
   "cell_type": "code",
   "execution_count": 65,
   "outputs": [],
   "source": [
    "kinetic_energies, potential_energies = get_energies(solver_result=solution,\n",
    "                                                    mass1=m1, mass2=m2, mass3=m3,\n",
    "                                                    length1=l1, length2=l2, length3=l3,\n",
    "                                                    gravity=g)"
   ],
   "metadata": {
    "collapsed": false,
    "ExecuteTime": {
     "end_time": "2023-12-20T19:41:43.662486Z",
     "start_time": "2023-12-20T19:41:43.657579Z"
    }
   },
   "id": "37126ad8855069a9"
  },
  {
   "cell_type": "code",
   "execution_count": 66,
   "outputs": [
    {
     "data": {
      "text/plain": "<Figure size 500x300 with 1 Axes>",
      "image/png": "[encoded data removed]"
     },
     "metadata": {},
     "output_type": "display_data"
    }
   ],
   "source": [
    "fig, ax = plt.subplots(1,1,figsize=(5,3))\n",
    "ax.plot(solution.t, kinetic_energies, label='Kinetic Energy')\n",
    "ax.plot(solution.t, potential_energies, label='Potential Energy')\n",
    "ax.legend(loc=1)\n",
    "plt.show()\n"
   ],
   "metadata": {
    "collapsed": false,
    "ExecuteTime": {
     "end_time": "2023-12-20T19:41:43.723692Z",
     "start_time": "2023-12-20T19:41:43.665732Z"
    }
   },
   "id": "6be9141651e49e2f"
  },
  {
   "cell_type": "code",
   "execution_count": 67,
   "outputs": [],
   "source": [
    "_upper_pendulum_, _middle_pendulum_, _lower_pendulum_, _times_ = get_cartesian_coordinates(solver_result=solution,\n",
    "                                                                                   length_1=l1, length_2=l2, length_3=l3)\n",
    "sample_rate = n_times//1000\n",
    "upper_pendulum, middle_pendulum, lower_pendulum, times = _upper_pendulum_[::sample_rate], _middle_pendulum_[::sample_rate], _lower_pendulum_[::sample_rate], _times_[::sample_rate]"
   ],
   "metadata": {
    "collapsed": false,
    "ExecuteTime": {
     "end_time": "2023-12-20T19:41:48.205278Z",
     "start_time": "2023-12-20T19:41:47.951351Z"
    }
   },
   "id": "30c463d8f1fc80e6"
  },
  {
   "cell_type": "code",
   "execution_count": 68,
   "outputs": [],
   "source": [
    "from matplotlib.animation import FuncAnimation\n",
    "import matplotlib.animation as animation\n",
    "\n",
    "\n",
    "resolution = 300\n",
    "fig, ax = plt.subplots(figsize=(5, 5), dpi=resolution)\n",
    "\n",
    "\n",
    "# Initial plot elements\n",
    "line1, = ax.plot([], [], lw=2)  # Line for the upper arm\n",
    "line2, = ax.plot([], [], lw=2)  # Line for the middle arm\n",
    "line3, = ax.plot([], [], lw=2)  # Line for the lower arm\n",
    "point1, = ax.plot([], [], 'ro', ms=5)  # Point for the upper pendulum\n",
    "point2, = ax.plot([], [], 'ro', ms=5)  # Point for the middle pendulum\n",
    "point3, = ax.plot([], [], 'ro', ms=5)  # Point for the middle pendulum\n",
    "\n",
    "# Initialization function\n",
    "def init():\n",
    "    line1.set_data([], [])\n",
    "    line2.set_data([], [])\n",
    "    line3.set_data([], [])\n",
    "    point1.set_data([], [])\n",
    "    point2.set_data([], [])\n",
    "    point3.set_data([], [])\n",
    "    return line1, line2, line3, point1, point2, point3\n",
    "\n",
    "# Animation update function\n",
    "def update(idx):\n",
    "    # Upper arm\n",
    "    line1.set_data([0, upper_pendulum[idx, 0]], [0, upper_pendulum[idx, 1]])\n",
    "    point1.set_data(upper_pendulum[idx, 0], upper_pendulum[idx, 1])\n",
    "\n",
    "    # middle arm\n",
    "    line2.set_data([upper_pendulum[idx, 0], middle_pendulum[idx, 0]], [upper_pendulum[idx, 1], middle_pendulum[idx, 1]])\n",
    "    point2.set_data(middle_pendulum[idx, 0], middle_pendulum[idx, 1])\n",
    "    \n",
    "    # lower arm\n",
    "    line3.set_data([middle_pendulum[idx, 0], lower_pendulum[idx, 0]], [middle_pendulum[idx, 1], lower_pendulum[idx, 1]])\n",
    "    point3.set_data(lower_pendulum[idx, 0], lower_pendulum[idx, 1])\n",
    "    return line1, line2, line3, point1, point2, point3\n",
    "\n",
    "# Setting additional things\n",
    "ax.set_xlim(-1.2*(l1+l2+l3), 1.2*(l1+l2+l3))\n",
    "ax.set_ylim(-1.2*(l1+l2+l3), 1.2*(l1+l2+l3))\n",
    "ax.set_aspect('equal')\n",
    "ax.hlines(0, -1.2*(l1+l2+l3), 1.2*(l1+l2+l3), lw=3, color='k')\n",
    "\n",
    "# Remove axis ticks and labels\n",
    "ax.set_xticks([]), ax.set_yticks([])\n",
    "ax.set_xlabel(''), ax.set_ylabel('')\n",
    "\n",
    "\n",
    "# Create the animation\n",
    "ani = FuncAnimation(fig, update, frames=len(times), init_func=init, blit=True, interval=1)\n",
    "\n",
    "# Set up the writer\n",
    "Writer = animation.writers['ffmpeg']\n",
    "writer = Writer(fps=100, metadata=dict(artist='Sebastian Yde'))\n",
    "\n",
    "# Save the animation\n",
    "ani.save('tripple_pendulum_animation.mp4', writer=writer)\n",
    "\n",
    "plt.close(fig)"
   ],
   "metadata": {
    "collapsed": false,
    "ExecuteTime": {
     "end_time": "2023-12-20T19:41:57.489857Z",
     "start_time": "2023-12-20T19:41:49.899111Z"
    }
   },
   "id": "a19da29f5d7ff325"
  },
  {
   "cell_type": "code",
   "execution_count": null,
   "outputs": [],
   "source": [],
   "metadata": {
    "collapsed": false
   },
   "id": "48b77d6b04b2fe61"
  }
 ],
 "metadata": {
  "kernelspec": {
   "display_name": "Python 3",
   "language": "python",
   "name": "python3"
  },
  "language_info": {
   "codemirror_mode": {
    "name": "ipython",
    "version": 2
   },
   "file_extension": ".py",
   "mimetype": "text/x-python",
   "name": "python",
   "nbconvert_exporter": "python",
   "pygments_lexer": "ipython2",
   "version": "2.7.6"
  }
 },
 "nbformat": 4,
 "nbformat_minor": 5
}
