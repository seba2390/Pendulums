{
 "cells": [
  {
   "cell_type": "code",
   "execution_count": 65,
   "outputs": [],
   "source": [
    "import sympy as sp\n",
    "import numpy as np\n",
    "import scipy as sc\n",
    "import matplotlib.pyplot as plt\n",
    "\n",
    "from tools import get_energies, get_cartesian_coordinates, downsample_data"
   ],
   "metadata": {
    "collapsed": false,
    "ExecuteTime": {
     "end_time": "2023-12-20T18:23:57.301920Z",
     "start_time": "2023-12-20T18:23:57.288049Z"
    }
   },
   "id": "239cf8bc14f75999"
  },
  {
   "cell_type": "markdown",
   "source": [
    "Consider the 2-dimensional polar coordinates, defined as:\n",
    "<p align=\"center\">\n",
    "  <img src=\"pictures/polar_cartesian.png\" alt=\"Cartesian-Polar coordinates\" title=\"Cartesian-Polar coordinates\">\n",
    "</p>\n",
    "\n",
    "and the most general definition of the position vector:\n",
    "\\begin{equation}\n",
    "\\vec{r}=r\\hat{r}\n",
    "\\end{equation}\n",
    "Considering the fact that both the length and the direction might in the general case posses a time-dependence, taking the derivative involves utilizing the product-rule, s.t.:\n",
    "\\begin{equation}\n",
    "\\vec{v}\\equiv\\dot{\\vec{r}}=\\frac{d\\vec{r}}{dt}=\\frac{dr}{dt}\\hat{r}+r\\frac{d\\hat{r}}{dt}\n",
    "\\end{equation}\n",
    "and from simple trigonometry it is given:\n",
    "\\begin{equation}\n",
    "\\hat{r}=\\hat{x}\\cos(\\phi)+\\hat{y}\\sin(\\phi), \\quad\\hat{\\phi}=-\\hat{x}\\sin(\\phi)+\\hat{y}\\cos(\\phi)\n",
    "\\end{equation}\n",
    "s.t. (w. constant $\\hat{x},\\hat{y}$):\n",
    "\\begin{equation}\n",
    "\\frac{d\\hat{r}}{dt}=\\hat{x}\\frac{d\\cos(\\phi)}{dt}+\\hat{y}\\frac{d\\sin(\\phi)}{dt}=\\hat{x}\\big(-\\sin(\\phi)\\big)\\dot{\\phi}+\\hat{y}\\cos(\\phi)\\dot{\\phi} = \\dot{\\phi}\\hat{\\phi}\n",
    "\\end{equation}\n",
    "\n",
    "such that the velocity becomes:\n",
    "\\begin{equation}\n",
    "\\vec{v}\\equiv \\dot{\\vec{r}}=\\dot{r}\\hat{r}+r\\dot{\\phi}\\hat{\\phi}\n",
    "\\end{equation}\n",
    "\n",
    "Let us then consider the simple double pendulum:\n",
    "<p align=\"center\">\n",
    "  <img src=\"pictures/double_pendulum.png\" alt=\"Double pendulum\" title=\"Double pendulum\">\n",
    "</p>\n",
    "\n",
    "and let us initially define the lagrangian:\n",
    "\\begin{equation}\n",
    "\\mathcal{L}=T-U\n",
    "\\end{equation}\n",
    "\n",
    "and then recall the general definitions of the potential and kinetic energy:\n",
    "\n",
    "\\begin{equation}\n",
    "T=\\frac{1}{2}mv^2,\\quad U=mgh\n",
    "\\end{equation}\n",
    "\n",
    "where $h$ is the vertical displacement relative to the gravitational reference level.\n",
    "\n",
    "From inspection of the above figure one can find the 2 contributions to the potential energy:\n",
    "\\begin{equation}\n",
    "U_1 = m_1gl_1\\big(1-cos(\\phi_1)\\big),\\quad U_2 = m_2g\\Big[l_1\\big(1-cos(\\phi_1)\\big)+l_2\\big(1-cos(\\phi_2)\\big)\\Big]\n",
    "\\end{equation}\n",
    "\n",
    "and the kinetic energy:\n",
    "\\begin{equation}\n",
    "T_1=\\frac{1}{2}m_1v_1^2,\\quad T_2=\\frac{1}{2}m_2v_2^2\n",
    "\\end{equation}\n",
    "\n",
    "where the speed is generally defined as the $l_2$-norm of the velocity, such that:\n",
    "\\begin{equation}\n",
    "v_1^2=||\\vec{v}_1||^2_2=||\\dot{l_1}\\hat{l_1}+l_1\\dot{\\phi_1}\\hat{\\phi_1}||_2^2=||l_1\\dot{\\phi_1}\\hat{\\phi_1}||^2_2=l_1^2\\dot{\\phi_1}^2||\\hat{\\phi_1}||_2^2=l_1^2\\dot{\\phi_1}^2\\langle \\hat{\\phi_1}|\\hat{\\phi_1}\\rangle=l_1^2\\dot{\\phi_1}^2\n",
    "\\end{equation}\n",
    "\n",
    "and the velocity of the second becomes the vector sum (both the motion of upper pendulum relative to ceiling and lower pendulum relative to upper contributes to lower pendulums velocity):\n",
    "\n",
    "\\begin{equation}\n",
    "v_2^2=||\\vec{v}_1+\\vec{v}_{1\\to2}||^2_2=||l_1\\dot{\\phi_1}\\hat{\\phi_1}+l_2\\dot{\\phi_2}\\hat{\\phi_2}||_2^2=l_1^2\\dot{\\phi_1}^2\\langle \\hat{\\phi_1}|\\hat{\\phi_1}\\rangle+l_2^2\\dot{\\phi_2}^2\\langle \\hat{\\phi_2}|\\hat{\\phi_2}\\rangle+2l_1l_2\\dot{\\phi_1}\\dot{\\phi_2}\\langle \\hat{\\phi_1}|\\hat{\\phi_2}\\rangle=l_1^2\\dot{\\phi_1}^2+l_2^2\\dot{\\phi_2}^2+2l_1l_2\\dot{\\phi_1}\\dot{\\phi_2}\\cos(\\phi_1-\\phi_2)\n",
    "\\end{equation}\n",
    "\n",
    "and as such, the lagrangian becomes: \n",
    "\\begin{equation}\n",
    "\\mathcal{L}=T-U=\\frac{1}{2}\\Big[m_1l_1^2\\dot{\\phi_1}^2+m_2\\big(l_1^2\\dot{\\phi_1}^2+l_2^2\\dot{\\phi_2}^2+2l_1l_2\\dot{\\phi_1}\\dot{\\phi_2}\\cos(\\phi_1-\\phi_2)\\big)\\Big]-g\\bigg[m_1l_1\\big(1-cos(\\phi_1)\\big)+m_2\\Big[l_1\\big(1-cos(\\phi_1)\\big)+l_2\\big(1-cos(\\phi_2)\\big)\\Big]\\bigg]\n",
    "\\end{equation}\n",
    "\n",
    "The next step now is to define the Euler-Lagrange equations for the coordinates of the system: \n",
    "\\begin{equation}\n",
    "\\frac{d}{dt}\\left(\\frac{\\partial \\mathcal{L}}{\\partial \\dot{\\phi}_i}\\right) - \\frac{\\partial \\mathcal{L}}{\\partial \\phi_i} = 0\n",
    "\\end{equation}\n",
    "\n",
    "but all the differentiation is tedious and we therefore utilize sympy:"
   ],
   "metadata": {
    "collapsed": false
   },
   "id": "da4352a182e1475b"
  },
  {
   "cell_type": "code",
   "execution_count": 66,
   "outputs": [],
   "source": [
    "# Define the symbols\n",
    "t = sp.symbols('t')  # time\n",
    "m1, m2, l1, l2, g = sp.symbols('m1 m2 l1 l2 g')        # masses, lengths, gravitational acceleration\n",
    "phi1, phi2 = sp.symbols('phi1 phi2', cls=sp.Function)  # angles as functions of time\n",
    "\n",
    "# Define the angle functions and their derivatives\n",
    "phi1, phi2 = phi1(t), phi2(t)\n",
    "phi1_dot, phi2_dot = sp.diff(phi1, t), sp.diff(phi2, t)\n",
    "\n",
    "# Define the Lagrangian\n",
    "U1 = m1 * g * l1 * (1 - sp.cos(phi1))\n",
    "U2 = m2 * g * (l1 * (1 - sp.cos(phi1)) + l2 * (1 - sp.cos(phi2)))\n",
    "U = U1 + U2\n",
    "\n",
    "T1 = sp.Rational(1, 2) * m1 * (l1 * phi1_dot)**2\n",
    "T2 = sp.Rational(1, 2) * m2 * (l1**2 * phi1_dot**2 + l2**2 * phi2_dot**2 + 2 * l1 * l2 * phi1_dot * phi2_dot * sp.cos(phi1 - phi2))\n",
    "T = T1+T2\n",
    "L = T-U"
   ],
   "metadata": {
    "collapsed": false,
    "ExecuteTime": {
     "end_time": "2023-12-20T18:23:57.326911Z",
     "start_time": "2023-12-20T18:23:57.299415Z"
    }
   },
   "id": "f558897de978214d"
  },
  {
   "cell_type": "code",
   "execution_count": 67,
   "outputs": [],
   "source": [
    "# Apply the Euler-Lagrange equation\n",
    "EL1 = sp.diff(sp.diff(L, phi1_dot), t) - sp.diff(L, phi1)\n",
    "EL2 = sp.diff(sp.diff(L, phi2_dot), t) - sp.diff(L, phi2)\n",
    "\n",
    "# Optionally, simplify the equations\n",
    "EL1_simplified = sp.Eq(sp.simplify(EL1),0)\n",
    "EL2_simplified = sp.Eq(sp.simplify(EL2),0)\n",
    "\n",
    "# Convert the equations to LaTeX format a\n",
    "EL1_latex = sp.latex(EL1_simplified)\n",
    "EL2_latex = sp.latex(EL2_simplified)\n",
    "\n",
    "# Write to a .txt file\n",
    "with open('euler_lagrange_equations.txt', 'w') as file:\n",
    "    file.write('Euler-Lagrange Equation for phi1:\\n')\n",
    "    file.write(EL1_latex + '\\n\\n')\n",
    "    file.write('Euler-Lagrange Equation for phi2:\\n')\n",
    "    file.write(EL2_latex + '\\n\\n')"
   ],
   "metadata": {
    "collapsed": false,
    "ExecuteTime": {
     "end_time": "2023-12-20T18:23:57.937397Z",
     "start_time": "2023-12-20T18:23:57.352064Z"
    }
   },
   "id": "c6f7bc8687dd110c"
  },
  {
   "cell_type": "markdown",
   "source": [
    "CTRL-C -> CTRL-V the two equations from the .txt file:\n",
    "\n",
    "\\begin{align}\n",
    "l_{1} \\left(g m_{1} \\sin{\\left(\\phi_{1}{\\left(t \\right)} \\right)} + g m_{2} \\sin{\\left(\\phi_{1}{\\left(t \\right)} \\right)} + l_{1} m_{1} \\frac{d^{2}}{d t^{2}} \\phi_{1}{\\left(t \\right)} + l_{1} m_{2} \\frac{d^{2}}{d t^{2}} \\phi_{1}{\\left(t \\right)} + l_{2} m_{2} \\sin{\\left(\\phi_{1}{\\left(t \\right)} - \\phi_{2}{\\left(t \\right)} \\right)} \\left(\\frac{d}{d t} \\phi_{2}{\\left(t \\right)}\\right)^{2} + l_{2} m_{2} \\cos{\\left(\\phi_{1}{\\left(t \\right)} - \\phi_{2}{\\left(t \\right)} \\right)} \\frac{d^{2}}{d t^{2}} \\phi_{2}{\\left(t \\right)}\\right)&=0 \\\\\n",
    "\n",
    "l_{2} m_{2} \\left(g \\sin{\\left(\\phi_{2}{\\left(t \\right)} \\right)} - l_{1} \\sin{\\left(\\phi_{1}{\\left(t \\right)} - \\phi_{2}{\\left(t \\right)} \\right)} \\left(\\frac{d}{d t} \\phi_{1}{\\left(t \\right)}\\right)^{2} + l_{1} \\cos{\\left(\\phi_{1}{\\left(t \\right)} - \\phi_{2}{\\left(t \\right)} \\right)} \\frac{d^{2}}{d t^{2}} \\phi_{1}{\\left(t \\right)} + l_{2} \\frac{d^{2}}{d t^{2}} \\phi_{2}{\\left(t \\right)}\\right)&=0\n",
    "\\end{align}\n",
    "\n",
    "now to solve these numerically, we have to transform the into 1-order coupled diffs, which we first do by solving the above system of equations for $\\frac{d^{2}}{d t^{2}} \\phi_{1}$ and $\\frac{d^{2}}{d t^{2}} \\phi_{2}$, which, to save time is again done by sympy: "
   ],
   "metadata": {
    "collapsed": false
   },
   "id": "fb39283835cd3a58"
  },
  {
   "cell_type": "code",
   "execution_count": 68,
   "outputs": [],
   "source": [
    "# Defining the second order time deriv variables\n",
    "phi1_ddot, phi2_ddot = sp.diff(phi1, t, t), sp.diff(phi2, t, t)\n",
    "# Solving the system of EL equations for the second order time derivatives\n",
    "# N.B. Solutions is a dict: variable -> equation\n",
    "solutions = sp.solve([EL1_simplified, EL2_simplified], (phi1_ddot, phi2_ddot)) \n",
    "\n",
    "# Convert the equations to LaTeX format \n",
    "phi1_ddot_latex = sp.latex(phi1_ddot)+'='+sp.latex(sp.simplify(solutions[phi1_ddot]))\n",
    "phi2_ddot_latex = sp.latex(phi2_ddot)+'='+sp.latex(sp.simplify(solutions[phi2_ddot]))\n",
    "\n",
    "# Write to a .txt file\n",
    "with open('second_order_equations.txt', 'w') as file:\n",
    "    file.write('Second Order Equation for phi1:\\n')\n",
    "    file.write(phi1_ddot_latex + '\\n\\n')\n",
    "    file.write('Second Order Equation for phi2:\\n')\n",
    "    file.write(phi2_ddot_latex + '\\n\\n')"
   ],
   "metadata": {
    "collapsed": false,
    "ExecuteTime": {
     "end_time": "2023-12-20T18:23:59.357073Z",
     "start_time": "2023-12-20T18:23:57.991421Z"
    }
   },
   "id": "d09f5c7e36490067"
  },
  {
   "cell_type": "markdown",
   "source": [
    "CTRL-C -> CTRL-V the two equations from the .txt file:\n",
    "\n",
    "\\begin{align}\n",
    "\\frac{d^{2}}{d t^{2}} \\phi_{1}{\\left(t \\right)}&=\\frac{- g m_{1} \\sin{\\left(\\phi_{1}{\\left(t \\right)} \\right)} - \\frac{g m_{2} \\sin{\\left(\\phi_{1}{\\left(t \\right)} - 2 \\phi_{2}{\\left(t \\right)} \\right)}}{2} - \\frac{g m_{2} \\sin{\\left(\\phi_{1}{\\left(t \\right)} \\right)}}{2} - \\frac{l_{1} m_{2} \\sin{\\left(2 \\phi_{1}{\\left(t \\right)} - 2 \\phi_{2}{\\left(t \\right)} \\right)} \\left(\\frac{d}{d t} \\phi_{1}{\\left(t \\right)}\\right)^{2}}{2} - l_{2} m_{2} \\sin{\\left(\\phi_{1}{\\left(t \\right)} - \\phi_{2}{\\left(t \\right)} \\right)} \\left(\\frac{d}{d t} \\phi_{2}{\\left(t \\right)}\\right)^{2}}{l_{1} \\left(m_{1} - m_{2} \\cos^{2}{\\left(\\phi_{1}{\\left(t \\right)} - \\phi_{2}{\\left(t \\right)} \\right)} + m_{2}\\right)}\n",
    "\n",
    " \\\\\n",
    "\n",
    "\\frac{d^{2}}{d t^{2}} \\phi_{2}{\\left(t \\right)}&=\\frac{\\frac{g m_{1} \\sin{\\left(2 \\phi_{1}{\\left(t \\right)} - \\phi_{2}{\\left(t \\right)} \\right)}}{2} - \\frac{g m_{1} \\sin{\\left(\\phi_{2}{\\left(t \\right)} \\right)}}{2} + \\frac{g m_{2} \\sin{\\left(2 \\phi_{1}{\\left(t \\right)} - \\phi_{2}{\\left(t \\right)} \\right)}}{2} - \\frac{g m_{2} \\sin{\\left(\\phi_{2}{\\left(t \\right)} \\right)}}{2} + l_{1} m_{1} \\sin{\\left(\\phi_{1}{\\left(t \\right)} - \\phi_{2}{\\left(t \\right)} \\right)} \\left(\\frac{d}{d t} \\phi_{1}{\\left(t \\right)}\\right)^{2} + l_{1} m_{2} \\sin{\\left(\\phi_{1}{\\left(t \\right)} - \\phi_{2}{\\left(t \\right)} \\right)} \\left(\\frac{d}{d t} \\phi_{1}{\\left(t \\right)}\\right)^{2} + \\frac{l_{2} m_{2} \\sin{\\left(2 \\phi_{1}{\\left(t \\right)} - 2 \\phi_{2}{\\left(t \\right)} \\right)} \\left(\\frac{d}{d t} \\phi_{2}{\\left(t \\right)}\\right)^{2}}{2}}{l_{2} \\left(m_{1} - m_{2} \\cos^{2}{\\left(\\phi_{1}{\\left(t \\right)} - \\phi_{2}{\\left(t \\right)} \\right)} + m_{2}\\right)}\n",
    "\n",
    "\\end{align}\n",
    "\n",
    "and now, by simply introducing auxiliary variables we get the following 4 coupled 1-order diffs: \n",
    "\n",
    "\\begin{align}\n",
    "\\frac{d}{dt} \\phi_1(t) &= \\omega_1 \\\\\n",
    "\\frac{d}{dt} \\omega_1 &= \\frac{- g m_{1} \\sin(\\phi_{1}(t)) - \\frac{g m_{2} \\sin(\\phi_{1}(t) - 2 \\phi_{2}(t))}{2} - \\frac{g m_{2} \\sin(\\phi_{1}(t))}{2} - \\frac{l_{1} m_{2} \\sin(2 \\phi_{1}(t) - 2 \\phi_{2}(t)) \\omega_1^2}{2} - l_{2} m_{2} \\sin(\\phi_{1}(t) - \\phi_{2}(t)) \\omega_2^2}{l_{1} (m_{1} - m_{2} \\cos^2(\\phi_{1}(t) - \\phi_{2}(t)) + m_{2})} \\\\\n",
    "\\frac{d}{dt} \\phi_2(t) &= \\omega_2 \\\\\n",
    "\\frac{d}{dt} \\omega_2 &= \\frac{\\frac{g m_{1} \\sin(2 \\phi_{1}(t) - \\phi_{2}(t))}{2} - \\frac{g m_{1} \\sin(\\phi_{2}(t))}{2} + \\frac{g m_{2} \\sin(2 \\phi_{1}(t) - \\phi_{2}(t))}{2} - \\frac{g m_{2} \\sin(\\phi_{2}(t))}{2} + l_{1} m_{1} \\sin(\\phi_{1}(t) - \\phi_{2}(t)) \\omega_1^2 + l_{1} m_{2} \\sin(\\phi_{1}(t) - \\phi_{2}(t)) \\omega_1^2 + \\frac{l_{2} m_{2} \\sin(2 \\phi_{1}(t) - 2 \\phi_{2}(t)) \\omega_2^2}{2}}{l_{2} (m_{1} - m_{2} \\cos^2(\\phi_{1}(t) - \\phi_{2}(t)) + m_{2})}\n",
    "\\end{align}"
   ],
   "metadata": {
    "collapsed": false
   },
   "id": "bd8620c02f2cf122"
  },
  {
   "cell_type": "code",
   "execution_count": 69,
   "outputs": [],
   "source": [
    "# Turning the second order equations into vectorized numpy functions that can efficiently evaluate numerical values\n",
    "phi1_ddot_lambdified = sp.lambdify([m1, m2, l1, l2, g, phi1, phi2, phi1_dot, phi2_dot], solutions[phi1_ddot], 'numpy')\n",
    "phi2_ddot_lambdified = sp.lambdify([m1, m2, l1, l2, g, phi1, phi2, phi1_dot, phi2_dot], solutions[phi2_ddot], 'numpy')\n",
    "\n",
    "# Wrapping in outer function to make more recognizable \n",
    "def d2_phi_1_dt2(phi_1:float, d_phi_1_dt: float, \n",
    "                 phi_2:float, d_phi_2_dt: float,\n",
    "                 length_1: float, length_2: float, \n",
    "                 mass_1: float, mass_2: float, \n",
    "                 g: float):\n",
    "    return phi1_ddot_lambdified(mass_1, mass_2, length_1, length_2, g, phi_1, phi_2, d_phi_1_dt, d_phi_2_dt)\n",
    "\n",
    "def d2_phi_2_dt2(phi_1:float, d_phi_1_dt: float, \n",
    "                 phi_2:float, d_phi_2_dt: float,\n",
    "                 length_1: float, length_2: float, \n",
    "                 mass_1: float, mass_2: float, \n",
    "                 g: float):\n",
    "    return phi2_ddot_lambdified(mass_1, mass_2, length_1, length_2, g, phi_1, phi_2, d_phi_1_dt, d_phi_2_dt)"
   ],
   "metadata": {
    "collapsed": false,
    "ExecuteTime": {
     "end_time": "2023-12-20T18:23:59.383571Z",
     "start_time": "2023-12-20T18:23:59.378627Z"
    }
   },
   "id": "507f64e47de101fa"
  },
  {
   "cell_type": "code",
   "execution_count": 70,
   "outputs": [
    {
     "name": "stdout",
     "output_type": "stream",
     "text": [
      "The solver successfully reached the end of the integration interval.\n"
     ]
    }
   ],
   "source": [
    "# Define the ODE function\n",
    "def double_pendulum(t, y, l1, l2, m1, m2, g):\n",
    "    phi_1, d_phi_1_dt, phi_2, d_phi_2_dt = y\n",
    "    d2_phi_1_dt2_value = d2_phi_1_dt2(phi_1=phi_1, d_phi_1_dt=d_phi_1_dt, phi_2=phi_2, d_phi_2_dt=d_phi_2_dt,\n",
    "                                      length_1=l1, length_2=l2, mass_1=m1, mass_2=m2, g=g)\n",
    "    d2_phi_2_dt2_value = d2_phi_2_dt2(phi_1=phi_1, d_phi_1_dt=d_phi_1_dt, phi_2=phi_2, d_phi_2_dt=d_phi_2_dt,\n",
    "                                      length_1=l1, length_2=l2, mass_1=m1, mass_2=m2, g=g)\n",
    "    return [d_phi_1_dt, d2_phi_1_dt2_value, d_phi_2_dt, d2_phi_2_dt2_value]\n",
    "\n",
    "# Initial conditions: [phi_1_init, d_phi_1_dt_init, phi_2_init, d_phi_2_dt_init]\n",
    "phi_1_init, phi_2_init = np.pi/4, np.pi\n",
    "phi_1_dot_init, phi_2_dot_init = 0, 0\n",
    "initial_conditions = [phi_1_init, phi_1_dot_init,\n",
    "                      phi_2_init, phi_2_dot_init]  \n",
    "\n",
    "# Parameters\n",
    "l1, l2 = 1, 1.5\n",
    "m1, m2 = 1, 1.5\n",
    "g = 9.82\n",
    "params = (l1, l2, m1, m2, g)  \n",
    "\n",
    "# Time span for the simulation\n",
    "t_min, t_max = 0, 20\n",
    "n_times = int(t_max*2000)\n",
    "\n",
    "time_span = np.linspace(start=t_min, stop=t_max, num=n_times)\n",
    "\n",
    "# Solve the ODEs\n",
    "solution = sc.integrate.solve_ivp(fun=double_pendulum,\n",
    "                        t_span=(t_min,t_max),\n",
    "                        y0=initial_conditions,\n",
    "                        method='Radau',\n",
    "                        args=params,\n",
    "                        t_eval=time_span)\n",
    "\n",
    "print(solution.message)"
   ],
   "metadata": {
    "collapsed": false,
    "ExecuteTime": {
     "end_time": "2023-12-20T18:23:59.507287Z",
     "start_time": "2023-12-20T18:23:59.384240Z"
    }
   },
   "id": "a3b3e2ff05017799"
  },
  {
   "cell_type": "code",
   "execution_count": 73,
   "outputs": [],
   "source": [
    "kinetic_energies, potential_energies = get_energies(solver_result=solution,\n",
    "                                                    mass_upper=m1, \n",
    "                                                    mass_lower=m2,\n",
    "                                                    length_upper=l1,\n",
    "                                                    length_lower=l2,\n",
    "                                                    gravity=g)\n",
    "_upper_pendulum_, _lower_pendulum_, _times_ = get_cartesian_coordinates(solver_result=solution,\n",
    "                                                                  length_upper=l1,\n",
    "                                                                  length_lower=l2)"
   ],
   "metadata": {
    "collapsed": false,
    "ExecuteTime": {
     "end_time": "2023-12-20T18:25:11.929208Z",
     "start_time": "2023-12-20T18:25:11.736695Z"
    }
   },
   "id": "560e890eb79a80c3"
  },
  {
   "cell_type": "code",
   "execution_count": 77,
   "outputs": [
    {
     "data": {
      "text/plain": "<Figure size 500x300 with 1 Axes>",
      "image/png": "[encoded data removed]"
     },
     "metadata": {},
     "output_type": "display_data"
    }
   ],
   "source": [
    "fig, ax = plt.subplots(1,1,figsize=(5,3))\n",
    "ax.plot(_times_, kinetic_energies, label='Kinetic Energy')\n",
    "ax.plot(_times_, potential_energies, label='Potential Energy')\n",
    "ax.legend(loc=1)\n",
    "plt.show()\n"
   ],
   "metadata": {
    "collapsed": false,
    "ExecuteTime": {
     "end_time": "2023-12-20T18:26:47.132263Z",
     "start_time": "2023-12-20T18:26:47.065382Z"
    }
   },
   "id": "8fbacc5d9253748f"
  },
  {
   "cell_type": "code",
   "execution_count": 72,
   "outputs": [],
   "source": [
    "upper_pendulum, lower_pendulum, times = downsample_data(upper_pendulum=_upper_pendulum_,\n",
    "                                                        lower_pendulum=_lower_pendulum_,\n",
    "                                                        times=_times_,\n",
    "                                                        n=n_times//1000)\n",
    "\n",
    "from matplotlib.animation import FuncAnimation\n",
    "import matplotlib.animation as animation\n",
    "\n",
    "\n",
    "resolution = 300\n",
    "fig, ax = plt.subplots(figsize=(5, 5), dpi=resolution)\n",
    "\n",
    "\n",
    "# Initial plot elements\n",
    "line1, = ax.plot([], [], lw=2)  # Line for the upper arm\n",
    "line2, = ax.plot([], [], lw=2)  # Line for the lower arm\n",
    "point1, = ax.plot([], [], 'ro', ms=5)  # Point for the upper pendulum\n",
    "point2, = ax.plot([], [], 'ro', ms=5)  # Point for the lower pendulum\n",
    "\n",
    "# Initialization function\n",
    "def init():\n",
    "    line1.set_data([], [])\n",
    "    line2.set_data([], [])\n",
    "    point1.set_data([], [])\n",
    "    point2.set_data([], [])\n",
    "    return line1, line2, point1, point2\n",
    "\n",
    "# Animation update function\n",
    "def update(idx):\n",
    "    # Upper arm\n",
    "    line1.set_data([0, upper_pendulum[idx, 0]], [0, upper_pendulum[idx, 1]])\n",
    "    point1.set_data(upper_pendulum[idx, 0], upper_pendulum[idx, 1])\n",
    "\n",
    "    # Lower arm\n",
    "    line2.set_data([upper_pendulum[idx, 0], lower_pendulum[idx, 0]], [upper_pendulum[idx, 1], lower_pendulum[idx, 1]])\n",
    "    point2.set_data(lower_pendulum[idx, 0], lower_pendulum[idx, 1])\n",
    "    return line1, line2, point1, point2\n",
    "\n",
    "# Setting additional things\n",
    "ax.set_xlim(-1.2*(l1+l2), 1.2*(l1+l2))\n",
    "ax.set_ylim(-1.2*(l1+l2), 1.2*(l1+l2))\n",
    "ax.set_aspect('equal')\n",
    "ax.hlines(0, -1.2*(l1+l2), 1.2*(l1+l2), lw=3, color='k')\n",
    "\n",
    "# Remove axis ticks and labels\n",
    "ax.set_xticks([]), ax.set_yticks([])\n",
    "ax.set_xlabel(''), ax.set_ylabel('')\n",
    "\n",
    "\n",
    "# Create the animation\n",
    "ani = FuncAnimation(fig, update, frames=len(times), init_func=init, blit=True, interval=1)\n",
    "\n",
    "# Set up the writer\n",
    "Writer = animation.writers['ffmpeg']\n",
    "writer = Writer(fps=100, metadata=dict(artist='Sebastian Yde'))\n",
    "\n",
    "# Save the animation\n",
    "ani.save('double_pendulum_animation.mp4', writer=writer)\n",
    "\n",
    "plt.close(fig)  # Close the figure when done"
   ],
   "metadata": {
    "collapsed": false,
    "ExecuteTime": {
     "end_time": "2023-12-20T18:24:07.399386Z",
     "start_time": "2023-12-20T18:23:59.553061Z"
    }
   },
   "id": "df4d980de4b327e9"
  },
  {
   "cell_type": "code",
   "execution_count": 72,
   "outputs": [],
   "source": [],
   "metadata": {
    "collapsed": false,
    "ExecuteTime": {
     "end_time": "2023-12-20T18:24:07.400585Z",
     "start_time": "2023-12-20T18:24:07.397748Z"
    }
   },
   "id": "880cc8d5a78c092c"
  }
 ],
 "metadata": {
  "kernelspec": {
   "display_name": "Python 3",
   "language": "python",
   "name": "python3"
  },
  "language_info": {
   "codemirror_mode": {
    "name": "ipython",
    "version": 2
   },
   "file_extension": ".py",
   "mimetype": "text/x-python",
   "name": "python",
   "nbconvert_exporter": "python",
   "pygments_lexer": "ipython2",
   "version": "2.7.6"
  }
 },
 "nbformat": 4,
 "nbformat_minor": 5
}
